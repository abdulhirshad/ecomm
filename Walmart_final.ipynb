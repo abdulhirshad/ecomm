{
 "cells": [
  {
   "cell_type": "markdown",
   "id": "1cd54ec4",
   "metadata": {},
   "source": [
    "## Business Case - ecomm\n",
    "\n",
    "#### ABC is an American multinational retail corporation that operates a chain of supercenters, discount departmental stores, and grocery stores from the United States. Walmart has more than 100 million customers worldwide."
   ]
  },
  {
   "cell_type": "markdown",
   "id": "f89ea5bc",
   "metadata": {},
   "source": [
    "## Problem Statement:\n",
    "\n",
    "#### The Management team at Walmart Inc. wants to analyze the customer purchase behavior (specifically, purchase amount) against the customer’s gender and the various other factors to help the business make better decisions. They want to understand if the spending habits differ between male and female customers: Do women spend more on Black Friday than men? (Assume 50 million customers are male and 50 million are female)."
   ]
  },
  {
   "cell_type": "code",
   "execution_count": 1,
   "id": "ecca6b46",
   "metadata": {},
   "outputs": [],
   "source": [
    "import pandas as pd\n",
    "import numpy as np\n",
    "import matplotlib.pyplot as plt\n",
    "%matplotlib inline\n",
    "import seaborn as sns\n",
    "import warnings\n",
    "warnings.filterwarnings('ignore')"
   ]
  },
  {
   "cell_type": "code",
   "execution_count": 2,
   "id": "108c7229",
   "metadata": {
    "scrolled": true
   },
   "outputs": [
    {
     "data": {
      "text/html": [
       "<div>\n",
       "<style scoped>\n",
       "    .dataframe tbody tr th:only-of-type {\n",
       "        vertical-align: middle;\n",
       "    }\n",
       "\n",
       "    .dataframe tbody tr th {\n",
       "        vertical-align: top;\n",
       "    }\n",
       "\n",
       "    .dataframe thead th {\n",
       "        text-align: right;\n",
       "    }\n",
       "</style>\n",
       "<table border=\"1\" class=\"dataframe\">\n",
       "  <thead>\n",
       "    <tr style=\"text-align: right;\">\n",
       "      <th></th>\n",
       "      <th>User_ID</th>\n",
       "      <th>Product_ID</th>\n",
       "      <th>Gender</th>\n",
       "      <th>Age</th>\n",
       "      <th>Occupation</th>\n",
       "      <th>City_Category</th>\n",
       "      <th>Stay_In_Current_City_Years</th>\n",
       "      <th>Marital_Status</th>\n",
       "      <th>Product_Category</th>\n",
       "      <th>Purchase</th>\n",
       "    </tr>\n",
       "  </thead>\n",
       "  <tbody>\n",
       "    <tr>\n",
       "      <th>0</th>\n",
       "      <td>1000001</td>\n",
       "      <td>P00069042</td>\n",
       "      <td>F</td>\n",
       "      <td>0-17</td>\n",
       "      <td>10</td>\n",
       "      <td>A</td>\n",
       "      <td>2</td>\n",
       "      <td>0</td>\n",
       "      <td>3</td>\n",
       "      <td>8370</td>\n",
       "    </tr>\n",
       "    <tr>\n",
       "      <th>1</th>\n",
       "      <td>1000001</td>\n",
       "      <td>P00248942</td>\n",
       "      <td>F</td>\n",
       "      <td>0-17</td>\n",
       "      <td>10</td>\n",
       "      <td>A</td>\n",
       "      <td>2</td>\n",
       "      <td>0</td>\n",
       "      <td>1</td>\n",
       "      <td>15200</td>\n",
       "    </tr>\n",
       "    <tr>\n",
       "      <th>2</th>\n",
       "      <td>1000001</td>\n",
       "      <td>P00087842</td>\n",
       "      <td>F</td>\n",
       "      <td>0-17</td>\n",
       "      <td>10</td>\n",
       "      <td>A</td>\n",
       "      <td>2</td>\n",
       "      <td>0</td>\n",
       "      <td>12</td>\n",
       "      <td>1422</td>\n",
       "    </tr>\n",
       "    <tr>\n",
       "      <th>3</th>\n",
       "      <td>1000001</td>\n",
       "      <td>P00085442</td>\n",
       "      <td>F</td>\n",
       "      <td>0-17</td>\n",
       "      <td>10</td>\n",
       "      <td>A</td>\n",
       "      <td>2</td>\n",
       "      <td>0</td>\n",
       "      <td>12</td>\n",
       "      <td>1057</td>\n",
       "    </tr>\n",
       "    <tr>\n",
       "      <th>4</th>\n",
       "      <td>1000002</td>\n",
       "      <td>P00285442</td>\n",
       "      <td>M</td>\n",
       "      <td>55+</td>\n",
       "      <td>16</td>\n",
       "      <td>C</td>\n",
       "      <td>4+</td>\n",
       "      <td>0</td>\n",
       "      <td>8</td>\n",
       "      <td>7969</td>\n",
       "    </tr>\n",
       "  </tbody>\n",
       "</table>\n",
       "</div>"
      ],
      "text/plain": [
       "   User_ID Product_ID Gender   Age  Occupation City_Category  \\\n",
       "0  1000001  P00069042      F  0-17          10             A   \n",
       "1  1000001  P00248942      F  0-17          10             A   \n",
       "2  1000001  P00087842      F  0-17          10             A   \n",
       "3  1000001  P00085442      F  0-17          10             A   \n",
       "4  1000002  P00285442      M   55+          16             C   \n",
       "\n",
       "  Stay_In_Current_City_Years  Marital_Status  Product_Category  Purchase  \n",
       "0                          2               0                 3      8370  \n",
       "1                          2               0                 1     15200  \n",
       "2                          2               0                12      1422  \n",
       "3                          2               0                12      1057  \n",
       "4                         4+               0                 8      7969  "
      ]
     },
     "execution_count": 2,
     "metadata": {},
     "output_type": "execute_result"
    }
   ],
   "source": [
    "df = pd.read_csv('ecomm.txt')\n",
    "df.head()"
   ]
  },
  {
   "cell_type": "code",
   "execution_count": 3,
   "id": "86518440",
   "metadata": {},
   "outputs": [
    {
     "data": {
      "text/plain": [
       "(550068, 10)"
      ]
     },
     "execution_count": 3,
     "metadata": {},
     "output_type": "execute_result"
    }
   ],
   "source": [
    "df.shape"
   ]
  },
  {
   "cell_type": "code",
   "execution_count": 4,
   "id": "1fa6c40a",
   "metadata": {},
   "outputs": [
    {
     "name": "stdout",
     "output_type": "stream",
     "text": [
      "<class 'pandas.core.frame.DataFrame'>\n",
      "RangeIndex: 550068 entries, 0 to 550067\n",
      "Data columns (total 10 columns):\n",
      " #   Column                      Non-Null Count   Dtype \n",
      "---  ------                      --------------   ----- \n",
      " 0   User_ID                     550068 non-null  int64 \n",
      " 1   Product_ID                  550068 non-null  object\n",
      " 2   Gender                      550068 non-null  object\n",
      " 3   Age                         550068 non-null  object\n",
      " 4   Occupation                  550068 non-null  int64 \n",
      " 5   City_Category               550068 non-null  object\n",
      " 6   Stay_In_Current_City_Years  550068 non-null  object\n",
      " 7   Marital_Status              550068 non-null  int64 \n",
      " 8   Product_Category            550068 non-null  int64 \n",
      " 9   Purchase                    550068 non-null  int64 \n",
      "dtypes: int64(5), object(5)\n",
      "memory usage: 42.0+ MB\n"
     ]
    }
   ],
   "source": [
    "df.info()"
   ]
  },
  {
   "cell_type": "code",
   "execution_count": 5,
   "id": "f5f1501a",
   "metadata": {},
   "outputs": [
    {
     "data": {
      "text/plain": [
       "User_ID                       0.0\n",
       "Product_ID                    0.0\n",
       "Gender                        0.0\n",
       "Age                           0.0\n",
       "Occupation                    0.0\n",
       "City_Category                 0.0\n",
       "Stay_In_Current_City_Years    0.0\n",
       "Marital_Status                0.0\n",
       "Product_Category              0.0\n",
       "Purchase                      0.0\n",
       "dtype: float64"
      ]
     },
     "execution_count": 5,
     "metadata": {},
     "output_type": "execute_result"
    }
   ],
   "source": [
    "df.isnull().sum()/len(df)*100"
   ]
  },
  {
   "cell_type": "markdown",
   "id": "fbd6d50f",
   "metadata": {},
   "source": [
    "#### From the above it is clear that there are no null values in the data"
   ]
  },
  {
   "cell_type": "code",
   "execution_count": 6,
   "id": "986b6299",
   "metadata": {},
   "outputs": [
    {
     "data": {
      "text/html": [
       "<div>\n",
       "<style scoped>\n",
       "    .dataframe tbody tr th:only-of-type {\n",
       "        vertical-align: middle;\n",
       "    }\n",
       "\n",
       "    .dataframe tbody tr th {\n",
       "        vertical-align: top;\n",
       "    }\n",
       "\n",
       "    .dataframe thead th {\n",
       "        text-align: right;\n",
       "    }\n",
       "</style>\n",
       "<table border=\"1\" class=\"dataframe\">\n",
       "  <thead>\n",
       "    <tr style=\"text-align: right;\">\n",
       "      <th></th>\n",
       "      <th>User_ID</th>\n",
       "      <th>Occupation</th>\n",
       "      <th>Marital_Status</th>\n",
       "      <th>Product_Category</th>\n",
       "      <th>Purchase</th>\n",
       "    </tr>\n",
       "  </thead>\n",
       "  <tbody>\n",
       "    <tr>\n",
       "      <th>count</th>\n",
       "      <td>5.500680e+05</td>\n",
       "      <td>550068.000000</td>\n",
       "      <td>550068.000000</td>\n",
       "      <td>550068.000000</td>\n",
       "      <td>550068.000000</td>\n",
       "    </tr>\n",
       "    <tr>\n",
       "      <th>mean</th>\n",
       "      <td>1.003029e+06</td>\n",
       "      <td>8.076707</td>\n",
       "      <td>0.409653</td>\n",
       "      <td>5.404270</td>\n",
       "      <td>9263.968713</td>\n",
       "    </tr>\n",
       "    <tr>\n",
       "      <th>std</th>\n",
       "      <td>1.727592e+03</td>\n",
       "      <td>6.522660</td>\n",
       "      <td>0.491770</td>\n",
       "      <td>3.936211</td>\n",
       "      <td>5023.065394</td>\n",
       "    </tr>\n",
       "    <tr>\n",
       "      <th>min</th>\n",
       "      <td>1.000001e+06</td>\n",
       "      <td>0.000000</td>\n",
       "      <td>0.000000</td>\n",
       "      <td>1.000000</td>\n",
       "      <td>12.000000</td>\n",
       "    </tr>\n",
       "    <tr>\n",
       "      <th>25%</th>\n",
       "      <td>1.001516e+06</td>\n",
       "      <td>2.000000</td>\n",
       "      <td>0.000000</td>\n",
       "      <td>1.000000</td>\n",
       "      <td>5823.000000</td>\n",
       "    </tr>\n",
       "    <tr>\n",
       "      <th>50%</th>\n",
       "      <td>1.003077e+06</td>\n",
       "      <td>7.000000</td>\n",
       "      <td>0.000000</td>\n",
       "      <td>5.000000</td>\n",
       "      <td>8047.000000</td>\n",
       "    </tr>\n",
       "    <tr>\n",
       "      <th>75%</th>\n",
       "      <td>1.004478e+06</td>\n",
       "      <td>14.000000</td>\n",
       "      <td>1.000000</td>\n",
       "      <td>8.000000</td>\n",
       "      <td>12054.000000</td>\n",
       "    </tr>\n",
       "    <tr>\n",
       "      <th>max</th>\n",
       "      <td>1.006040e+06</td>\n",
       "      <td>20.000000</td>\n",
       "      <td>1.000000</td>\n",
       "      <td>20.000000</td>\n",
       "      <td>23961.000000</td>\n",
       "    </tr>\n",
       "  </tbody>\n",
       "</table>\n",
       "</div>"
      ],
      "text/plain": [
       "            User_ID     Occupation  Marital_Status  Product_Category  \\\n",
       "count  5.500680e+05  550068.000000   550068.000000     550068.000000   \n",
       "mean   1.003029e+06       8.076707        0.409653          5.404270   \n",
       "std    1.727592e+03       6.522660        0.491770          3.936211   \n",
       "min    1.000001e+06       0.000000        0.000000          1.000000   \n",
       "25%    1.001516e+06       2.000000        0.000000          1.000000   \n",
       "50%    1.003077e+06       7.000000        0.000000          5.000000   \n",
       "75%    1.004478e+06      14.000000        1.000000          8.000000   \n",
       "max    1.006040e+06      20.000000        1.000000         20.000000   \n",
       "\n",
       "            Purchase  \n",
       "count  550068.000000  \n",
       "mean     9263.968713  \n",
       "std      5023.065394  \n",
       "min        12.000000  \n",
       "25%      5823.000000  \n",
       "50%      8047.000000  \n",
       "75%     12054.000000  \n",
       "max     23961.000000  "
      ]
     },
     "execution_count": 6,
     "metadata": {},
     "output_type": "execute_result"
    }
   ],
   "source": [
    "df.describe()"
   ]
  },
  {
   "cell_type": "markdown",
   "id": "d306c424",
   "metadata": {},
   "source": [
    "#### Convert Gender and City_Category columns to numerical"
   ]
  },
  {
   "cell_type": "code",
   "execution_count": 7,
   "id": "2ebdcb8e",
   "metadata": {},
   "outputs": [],
   "source": [
    "df['Gender'] = df['Gender'].apply(lambda x:1 if x=='M' else 0)\n",
    "df['City_Category'] = df['City_Category'].apply(lambda x:0 if x=='A' else 1 if x=='B' else 2)"
   ]
  },
  {
   "cell_type": "markdown",
   "id": "ab725d52",
   "metadata": {},
   "source": [
    "#### Outlier Analysis"
   ]
  },
  {
   "cell_type": "code",
   "execution_count": 8,
   "id": "66893d0c",
   "metadata": {},
   "outputs": [
    {
     "data": {
      "image/png": "[encoded data removed]",
      "text/plain": [
       "<Figure size 1008x720 with 4 Axes>"
      ]
     },
     "metadata": {
      "needs_background": "light"
     },
     "output_type": "display_data"
    }
   ],
   "source": [
    "fig, axis = plt.subplots(nrows=2, ncols=2, figsize=(14, 10))\n",
    "fig.subplots_adjust(top=1.2)\n",
    "sns.boxplot(x='Occupation',data = df,ax=axis[0,0]).set_title('Outliers in Occupation')\n",
    "sns.boxplot(x='City_Category',data = df,ax=axis[0,1]).set_title('Outliers in City_Category')\n",
    "sns.boxplot(x='Product_Category',data = df,ax=axis[1,0]).set_title('Outliers in Product_Category')\n",
    "sns.boxplot(x='Purchase',data = df,ax=axis[1,1]).set_title('Outliers in Purchase')\n",
    "\n",
    "plt.show()"
   ]
  },
  {
   "cell_type": "markdown",
   "id": "926d3633",
   "metadata": {},
   "source": [
    "#### clearly there are outliers in product and purchase columns. We're using CLT to find out intervals, so there's no need to remove the outliers."
   ]
  },
  {
   "cell_type": "markdown",
   "id": "6f7f7984",
   "metadata": {},
   "source": [
    "### Gender Analysis"
   ]
  },
  {
   "cell_type": "code",
   "execution_count": 9,
   "id": "84f09aed",
   "metadata": {},
   "outputs": [
    {
     "data": {
      "text/plain": [
       "1    414259\n",
       "0    135809\n",
       "Name: Gender, dtype: int64"
      ]
     },
     "execution_count": 9,
     "metadata": {},
     "output_type": "execute_result"
    }
   ],
   "source": [
    "df.Gender.value_counts()"
   ]
  },
  {
   "cell_type": "markdown",
   "id": "8f33c28c",
   "metadata": {},
   "source": [
    "#### The number of users that are actually present in the dataset. We need to extrapolate the information from these customers to 100million users."
   ]
  },
  {
   "cell_type": "code",
   "execution_count": 10,
   "id": "153e2117",
   "metadata": {},
   "outputs": [
    {
     "data": {
      "text/plain": [
       "Gender\n",
       "0    1666\n",
       "1    4225\n",
       "Name: User_ID, dtype: int64"
      ]
     },
     "execution_count": 10,
     "metadata": {},
     "output_type": "execute_result"
    }
   ],
   "source": [
    "df.groupby('Gender')['User_ID'].nunique()"
   ]
  },
  {
   "cell_type": "code",
   "execution_count": 11,
   "id": "2055aac6",
   "metadata": {},
   "outputs": [
    {
     "data": {
      "image/png": "[encoded data removed]",
      "text/plain": [
       "<Figure size 432x288 with 1 Axes>"
      ]
     },
     "metadata": {
      "needs_background": "light"
     },
     "output_type": "display_data"
    }
   ],
   "source": [
    "sns.boxplot(x='Gender', y='Purchase', data=df,hue='Gender')\n",
    "plt.title('Gender vs Purchase')\n",
    "plt.show()"
   ]
  },
  {
   "cell_type": "markdown",
   "id": "3ff960ef",
   "metadata": {},
   "source": [
    "#### We can see that the median of both males and female customers are almost in the same range."
   ]
  },
  {
   "cell_type": "code",
   "execution_count": 12,
   "id": "8eda8623",
   "metadata": {},
   "outputs": [
    {
     "data": {
      "text/html": [
       "<div>\n",
       "<style scoped>\n",
       "    .dataframe tbody tr th:only-of-type {\n",
       "        vertical-align: middle;\n",
       "    }\n",
       "\n",
       "    .dataframe tbody tr th {\n",
       "        vertical-align: top;\n",
       "    }\n",
       "\n",
       "    .dataframe thead th {\n",
       "        text-align: right;\n",
       "    }\n",
       "</style>\n",
       "<table border=\"1\" class=\"dataframe\">\n",
       "  <thead>\n",
       "    <tr style=\"text-align: right;\">\n",
       "      <th></th>\n",
       "      <th>count</th>\n",
       "      <th>mean</th>\n",
       "      <th>std</th>\n",
       "      <th>min</th>\n",
       "      <th>25%</th>\n",
       "      <th>50%</th>\n",
       "      <th>75%</th>\n",
       "      <th>max</th>\n",
       "    </tr>\n",
       "    <tr>\n",
       "      <th>Gender</th>\n",
       "      <th></th>\n",
       "      <th></th>\n",
       "      <th></th>\n",
       "      <th></th>\n",
       "      <th></th>\n",
       "      <th></th>\n",
       "      <th></th>\n",
       "      <th></th>\n",
       "    </tr>\n",
       "  </thead>\n",
       "  <tbody>\n",
       "    <tr>\n",
       "      <th>0</th>\n",
       "      <td>135809.0</td>\n",
       "      <td>8734.565765</td>\n",
       "      <td>4767.233289</td>\n",
       "      <td>12.0</td>\n",
       "      <td>5433.0</td>\n",
       "      <td>7914.0</td>\n",
       "      <td>11400.0</td>\n",
       "      <td>23959.0</td>\n",
       "    </tr>\n",
       "    <tr>\n",
       "      <th>1</th>\n",
       "      <td>414259.0</td>\n",
       "      <td>9437.526040</td>\n",
       "      <td>5092.186210</td>\n",
       "      <td>12.0</td>\n",
       "      <td>5863.0</td>\n",
       "      <td>8098.0</td>\n",
       "      <td>12454.0</td>\n",
       "      <td>23961.0</td>\n",
       "    </tr>\n",
       "  </tbody>\n",
       "</table>\n",
       "</div>"
      ],
      "text/plain": [
       "           count         mean          std   min     25%     50%      75%  \\\n",
       "Gender                                                                      \n",
       "0       135809.0  8734.565765  4767.233289  12.0  5433.0  7914.0  11400.0   \n",
       "1       414259.0  9437.526040  5092.186210  12.0  5863.0  8098.0  12454.0   \n",
       "\n",
       "            max  \n",
       "Gender           \n",
       "0       23959.0  \n",
       "1       23961.0  "
      ]
     },
     "execution_count": 12,
     "metadata": {},
     "output_type": "execute_result"
    }
   ],
   "source": [
    "df.groupby('Gender')['Purchase'].describe()"
   ]
  },
  {
   "cell_type": "code",
   "execution_count": 13,
   "id": "f41a67bc",
   "metadata": {},
   "outputs": [
    {
     "data": {
      "image/png": "[encoded data removed]",
      "text/plain": [
       "<Figure size 404.875x360 with 1 Axes>"
      ]
     },
     "metadata": {
      "needs_background": "light"
     },
     "output_type": "display_data"
    }
   ],
   "source": [
    "sns.displot(x='Purchase', bins=25, kde=True,hue='Gender', data=df)\n",
    "plt.title('Purchase power based on Gender')\n",
    "plt.show()"
   ]
  },
  {
   "cell_type": "markdown",
   "id": "40956c89",
   "metadata": {},
   "source": [
    "#### We can't say from here that male customers are buying more in number than females.\n",
    "### CLT Analysis"
   ]
  },
  {
   "cell_type": "code",
   "execution_count": null,
   "id": "c27fa79e",
   "metadata": {},
   "outputs": [],
   "source": [
    "sample_size=300\n",
    "male_sample_means=[df[df['Gender']==1].sample(sample_size, replace=True)['Purchase'].mean() for i in range(1000)]"
   ]
  },
  {
   "cell_type": "code",
   "execution_count": null,
   "id": "3a77cb7c",
   "metadata": {},
   "outputs": [],
   "source": [
    "females_sample_means=[df[df['Gender']==0].sample(sample_size, replace=True)['Purchase'].mean() for i in range(1000)]"
   ]
  },
  {
   "cell_type": "code",
   "execution_count": null,
   "id": "0245da1a",
   "metadata": {},
   "outputs": [],
   "source": [
    "sns.distplot(male_sample_means)\n",
    "plt.title('Male sample means')\n",
    "plt.show()"
   ]
  },
  {
   "cell_type": "code",
   "execution_count": null,
   "id": "d5c7d793",
   "metadata": {},
   "outputs": [],
   "source": [
    "sns.distplot(females_sample_means)\n",
    "plt.title('Females sample means')\n",
    "plt.show()"
   ]
  },
  {
   "cell_type": "code",
   "execution_count": null,
   "id": "04f710e8",
   "metadata": {},
   "outputs": [],
   "source": [
    "male_upper_limit= np.mean(male_sample_means) + (1.96 * np.std(male_sample_means))\n",
    "male_lower_limit= np.mean(male_sample_means) - (1.96 * np.std(male_sample_means))\n",
    "print(f'The mean of males purchasing lies between with 95% confidence :{(male_lower_limit, male_upper_limit)}')\n",
    "female_upper_limit= np.mean(females_sample_means) + (1.96 * np.std(females_sample_means))\n",
    "female_lower_limit= np.mean(females_sample_means) - (1.96 * np.std(females_sample_means))\n",
    "print(f'The mean of females purchasing lies between with 95% confidence :{(female_lower_limit, female_upper_limit)}')"
   ]
  },
  {
   "cell_type": "code",
   "execution_count": null,
   "id": "a7183cfc",
   "metadata": {},
   "outputs": [],
   "source": [
    "male_upper_limit= np.mean(male_sample_means) + (1.645 * np.std(male_sample_means))\n",
    "male_lower_limit= np.mean(male_sample_means) - (1.645 * np.std(male_sample_means))\n",
    "print(f'The mean of males purchasing lies between with 90% confidence :{(male_lower_limit, male_upper_limit)}')\n",
    "female_upper_limit= np.mean(females_sample_means) + (1.645 * np.std(females_sample_means))\n",
    "female_lower_limit= np.mean(females_sample_means) - (1.645 * np.std(females_sample_means))\n",
    "print(f'The mean of females purchasing lies between with 90% confidence :{(female_lower_limit, female_upper_limit)}')"
   ]
  },
  {
   "cell_type": "code",
   "execution_count": null,
   "id": "52cb2ecf",
   "metadata": {},
   "outputs": [],
   "source": [
    "male_upper_limit= np.mean(male_sample_means) + (2.58 * np.std(male_sample_means))\n",
    "male_lower_limit= np.mean(male_sample_means) - (2.58 * np.std(male_sample_means))\n",
    "print(f'The mean of males purchasing lies between with 99% confidence :{(male_lower_limit, male_upper_limit)}')\n",
    "female_upper_limit= np.mean(females_sample_means) + (2.58 * np.std(females_sample_means))\n",
    "female_lower_limit= np.mean(females_sample_means) - (2.58 * np.std(females_sample_means))\n",
    "print(f'The mean of females purchasing lies between with 99% confidence :{(female_lower_limit, female_upper_limit)}')"
   ]
  },
  {
   "cell_type": "markdown",
   "id": "36a623ca",
   "metadata": {},
   "source": [
    "#### I can see the range is overlaping, so we can't decide if the males are buying more on the holiday season than females."
   ]
  },
  {
   "cell_type": "markdown",
   "id": "3aabcdf8",
   "metadata": {},
   "source": [
    "### Married and Unmarried Analysis"
   ]
  },
  {
   "cell_type": "code",
   "execution_count": null,
   "id": "c6c6712c",
   "metadata": {},
   "outputs": [],
   "source": [
    "df.Marital_Status.value_counts()"
   ]
  },
  {
   "cell_type": "code",
   "execution_count": null,
   "id": "5a03cd57",
   "metadata": {},
   "outputs": [],
   "source": [
    "df.groupby('Marital_Status')['User_ID'].nunique()"
   ]
  },
  {
   "cell_type": "code",
   "execution_count": null,
   "id": "40bff6f5",
   "metadata": {},
   "outputs": [],
   "source": [
    "df.groupby('Marital_Status')['Purchase'].describe()"
   ]
  },
  {
   "cell_type": "code",
   "execution_count": null,
   "id": "0d80c104",
   "metadata": {},
   "outputs": [],
   "source": [
    "sns.displot(x='Purchase', bins=25, kde=True,hue='Marital_Status', data=df )\n",
    "plt.title('Marital status vs Purchase')\n",
    "plt.show()"
   ]
  },
  {
   "cell_type": "markdown",
   "id": "479330bb",
   "metadata": {},
   "source": [
    "#### We can't say that the Unmarried people are buying more in number yet."
   ]
  },
  {
   "cell_type": "code",
   "execution_count": null,
   "id": "ff50dae8",
   "metadata": {},
   "outputs": [],
   "source": [
    "married_sample_means=[df[df['Marital_Status']==1].sample(sample_size, replace=True)['Purchase'].mean() for i in range(1000)]"
   ]
  },
  {
   "cell_type": "code",
   "execution_count": null,
   "id": "2ddb9d4e",
   "metadata": {},
   "outputs": [],
   "source": [
    "unmarried_sample_means=[df[df['Marital_Status']==0].sample(sample_size, replace=True)['Purchase'].mean() for i in range(1000)]"
   ]
  },
  {
   "cell_type": "code",
   "execution_count": null,
   "id": "f96668a9",
   "metadata": {},
   "outputs": [],
   "source": [
    "sns.distplot(married_sample_means)\n",
    "plt.title('Married sample means')\n",
    "plt.show()"
   ]
  },
  {
   "cell_type": "code",
   "execution_count": null,
   "id": "3b91733b",
   "metadata": {},
   "outputs": [],
   "source": [
    "sns.distplot(unmarried_sample_means)\n",
    "plt.title('Unmarried sample means')\n",
    "plt.show()"
   ]
  },
  {
   "cell_type": "code",
   "execution_count": null,
   "id": "a541041a",
   "metadata": {},
   "outputs": [],
   "source": [
    "married_upper_limit= np.mean(married_sample_means) + (1.96 * np.std(married_sample_means))\n",
    "married_lower_limit= np.mean(married_sample_means) - (1.96 * np.std(married_sample_means))\n",
    "print(f'The mean of married people purchasing lies between with 95% confidence is :{(married_lower_limit, married_upper_limit)}')\n",
    "unmarried_upper_limit= np.mean(unmarried_sample_means) + (1.96 * np.std(unmarried_sample_means))\n",
    "unmarried_lower_limit= np.mean(unmarried_sample_means) - (1.96 * np.std(unmarried_sample_means))\n",
    "print(f'The mean of unmarried people purchasing lies between with 95% confidence is :{(unmarried_lower_limit,unmarried_upper_limit)}')"
   ]
  },
  {
   "cell_type": "code",
   "execution_count": null,
   "id": "c4478e3b",
   "metadata": {},
   "outputs": [],
   "source": [
    "married_upper_limit= np.mean(married_sample_means) + (1.645 * np.std(married_sample_means))\n",
    "married_lower_limit= np.mean(married_sample_means) - (1.645 * np.std(married_sample_means))\n",
    "print(f'The mean of married people purchasing lies between with 90% confidence is :{(married_lower_limit, married_upper_limit)}')\n",
    "unmarried_upper_limit= np.mean(unmarried_sample_means) + (1.645 * np.std(unmarried_sample_means))\n",
    "unmarried_lower_limit= np.mean(unmarried_sample_means) - (1.645 * np.std(unmarried_sample_means))\n",
    "print(f'The mean of unmarried people purchasing lies between with 90% confidence is :{(unmarried_lower_limit,unmarried_upper_limit)}')"
   ]
  },
  {
   "cell_type": "code",
   "execution_count": null,
   "id": "a72f60d3",
   "metadata": {},
   "outputs": [],
   "source": [
    "married_upper_limit= np.mean(married_sample_means) + (2.58 * np.std(married_sample_means))\n",
    "married_lower_limit= np.mean(married_sample_means) - (2.58 * np.std(married_sample_means))\n",
    "print(f'The mean of married people purchasing lies between with 99% confidence is :{(married_lower_limit, married_upper_limit)}')\n",
    "unmarried_upper_limit= np.mean(unmarried_sample_means) + (2.58 * np.std(unmarried_sample_means))\n",
    "unmarried_lower_limit= np.mean(unmarried_sample_means) - (2.58 * np.std(unmarried_sample_means))\n",
    "print(f'The mean of unmarried people purchasing lies between with 99% confidence is :{(unmarried_lower_limit,unmarried_upper_limit)}')"
   ]
  },
  {
   "cell_type": "markdown",
   "id": "fc2a4c7f",
   "metadata": {},
   "source": [
    "#### Can't say either that Married people are buying more in number than Unmarried or Vice versa"
   ]
  },
  {
   "cell_type": "markdown",
   "id": "463c07bc",
   "metadata": {},
   "source": [
    "### Age Analysis"
   ]
  },
  {
   "cell_type": "code",
   "execution_count": null,
   "id": "17f41d9f",
   "metadata": {},
   "outputs": [],
   "source": [
    "df.Age.value_counts()"
   ]
  },
  {
   "cell_type": "code",
   "execution_count": null,
   "id": "3582f251",
   "metadata": {},
   "outputs": [],
   "source": [
    "df.groupby('Age')['User_ID'].nunique()"
   ]
  },
  {
   "cell_type": "code",
   "execution_count": null,
   "id": "2bc74adc",
   "metadata": {},
   "outputs": [],
   "source": [
    "df.groupby('Age')['Purchase'].describe()"
   ]
  },
  {
   "cell_type": "code",
   "execution_count": null,
   "id": "16668638",
   "metadata": {},
   "outputs": [],
   "source": [
    "sns.displot(x='Purchase', bins=25, kde=True,hue='Age', data=df )\n",
    "plt.title('Age vs Purchase')\n",
    "plt.show()"
   ]
  },
  {
   "cell_type": "markdown",
   "id": "7727352b",
   "metadata": {},
   "source": [
    "#### Generally we can see that the people in the range between the age group of 26-35 are buying more but we can't say that yet."
   ]
  },
  {
   "cell_type": "code",
   "execution_count": null,
   "id": "c6b77a95",
   "metadata": {},
   "outputs": [],
   "source": [
    "sample_means1=[df[df['Age']=='0-17'].sample(sample_size, replace=True)['Purchase'].mean() for i in range(1000)]\n",
    "sample_means2=[df[df['Age']=='18-25'].sample(sample_size, replace=True)['Purchase'].mean() for i in range(1000)]\n",
    "sample_means3=[df[df['Age']=='26-35'].sample(sample_size, replace=True)['Purchase'].mean() for i in range(1000)]\n",
    "sample_means4=[df[df['Age']=='36-45'].sample(sample_size, replace=True)['Purchase'].mean() for i in range(1000)]\n",
    "sample_means5=[df[df['Age']=='46-50'].sample(sample_size, replace=True)['Purchase'].mean() for i in range(1000)]\n",
    "sample_means6=[df[df['Age']=='51-55'].sample(sample_size, replace=True)['Purchase'].mean() for i in range(1000)]\n",
    "sample_means7=[df[df['Age']=='55+'].sample(sample_size, replace=True)['Purchase'].mean() for i in range(1000)]"
   ]
  },
  {
   "cell_type": "code",
   "execution_count": null,
   "id": "a2327624",
   "metadata": {},
   "outputs": [],
   "source": [
    "sns.distplot(sample_means1)\n",
    "plt.title('Age Group of 0-17')\n",
    "plt.show()"
   ]
  },
  {
   "cell_type": "code",
   "execution_count": null,
   "id": "5a523dda",
   "metadata": {},
   "outputs": [],
   "source": [
    "sns.distplot(sample_means2)\n",
    "plt.title('Age Group of 18-25')\n",
    "plt.show()"
   ]
  },
  {
   "cell_type": "code",
   "execution_count": null,
   "id": "2d896141",
   "metadata": {},
   "outputs": [],
   "source": [
    "sns.distplot(sample_means3)\n",
    "plt.title('Age Group of 26-35')\n",
    "plt.show()"
   ]
  },
  {
   "cell_type": "code",
   "execution_count": null,
   "id": "108e6f99",
   "metadata": {},
   "outputs": [],
   "source": [
    "sns.distplot(sample_means4)\n",
    "plt.title('Age Group of 36-45')\n",
    "plt.show()"
   ]
  },
  {
   "cell_type": "code",
   "execution_count": null,
   "id": "f366c69a",
   "metadata": {},
   "outputs": [],
   "source": [
    "sns.distplot(sample_means5)\n",
    "plt.title('Age Group of 46-50')\n",
    "plt.show()"
   ]
  },
  {
   "cell_type": "code",
   "execution_count": null,
   "id": "e1561032",
   "metadata": {},
   "outputs": [],
   "source": [
    "sns.distplot(sample_means6)\n",
    "plt.title('Age Group of 51-55')\n",
    "plt.show()"
   ]
  },
  {
   "cell_type": "code",
   "execution_count": null,
   "id": "964ec62e",
   "metadata": {},
   "outputs": [],
   "source": [
    "sns.distplot(sample_means7)\n",
    "plt.title('Age Group of 55+')\n",
    "plt.show()"
   ]
  },
  {
   "cell_type": "code",
   "execution_count": null,
   "id": "185a549e",
   "metadata": {},
   "outputs": [],
   "source": [
    "upper_limit1= np.mean(sample_means1) + (1.96 * np.std(sample_means1))\n",
    "lower_limit1= np.mean(sample_means1) - (1.96 * np.std(sample_means1))\n",
    "print(f'confidence intervals for 0-17 years of age with 95% is:{(lower_limit1,upper_limit1)}')\n",
    "\n",
    "upper_limit2= np.mean(sample_means2) + (1.96 * np.std(sample_means2))\n",
    "lower_limit2= np.mean(sample_means2) - (1.96 * np.std(sample_means2))\n",
    "print(f'confidence intervals for 18-25 years of age with 95% is:{(lower_limit2,upper_limit2)}')\n",
    "\n",
    "upper_limit3= np.mean(sample_means3) + (1.96 * np.std(sample_means3))\n",
    "lower_limit3= np.mean(sample_means3) - (1.96 * np.std(sample_means3))\n",
    "print(f'confidence intervals for 26-35 years of age with 95% is:{(lower_limit3,upper_limit3)}')\n",
    "\n",
    "upper_limit4= np.mean(sample_means4) + (1.96 * np.std(sample_means4))\n",
    "lower_limit4= np.mean(sample_means4) - (1.96 * np.std(sample_means4))\n",
    "print(f'confidence intervals for 36-45 years of age with 95% is:{(lower_limit4,upper_limit4)}')\n",
    "\n",
    "upper_limit5= np.mean(sample_means5) + (1.96 * np.std(sample_means5))\n",
    "lower_limit5= np.mean(sample_means5) - (1.96 * np.std(sample_means5))\n",
    "print(f'confidence intervals for 46-50 years of age with 95% is:{(lower_limit5,upper_limit5)}')\n",
    "\n",
    "upper_limit6= np.mean(sample_means6) + (1.96 * np.std(sample_means6))\n",
    "lower_limit6= np.mean(sample_means6) - (1.96 * np.std(sample_means6))\n",
    "print(f'confidence intervals for 51-55 years of age with 95% is:{(lower_limit6,upper_limit6)}')\n",
    "\n",
    "upper_limit7= np.mean(sample_means7) + (1.96 * np.std(sample_means7))\n",
    "lower_limit7= np.mean(sample_means7) - (1.96 * np.std(sample_means7))\n",
    "print(f'confidence intervals for 55+ years of age with 95% is:{(lower_limit7,upper_limit7)}')"
   ]
  },
  {
   "cell_type": "code",
   "execution_count": null,
   "id": "f69b68ce",
   "metadata": {},
   "outputs": [],
   "source": [
    "upper_limit1= np.mean(sample_means1) + (1.645 * np.std(sample_means1))\n",
    "lower_limit1= np.mean(sample_means1) - (1.645 * np.std(sample_means1))\n",
    "print(f'confidence intervals for 0-17 years of age with 90% is:{(lower_limit1,upper_limit1)}')\n",
    "\n",
    "upper_limit2= np.mean(sample_means2) + (1.645 * np.std(sample_means2))\n",
    "lower_limit2= np.mean(sample_means2) - (1.645 * np.std(sample_means2))\n",
    "print(f'confidence intervals for 18-25 years of age with 90% is:{(lower_limit2,upper_limit2)}')\n",
    "\n",
    "upper_limit3= np.mean(sample_means3) + (1.645 * np.std(sample_means3))\n",
    "lower_limit3= np.mean(sample_means3) - (1.645 * np.std(sample_means3))\n",
    "print(f'confidence intervals for 26-35 years of age with 90% is:{(lower_limit3,upper_limit3)}')\n",
    "\n",
    "upper_limit4= np.mean(sample_means4) + (1.645 * np.std(sample_means4))\n",
    "lower_limit4= np.mean(sample_means4) - (1.645 * np.std(sample_means4))\n",
    "print(f'confidence intervals for 36-45 years of age with 90% is:{(lower_limit4,upper_limit4)}')\n",
    "\n",
    "upper_limit5= np.mean(sample_means5) + (1.645 * np.std(sample_means5))\n",
    "lower_limit5= np.mean(sample_means5) - (1.645 * np.std(sample_means5))\n",
    "print(f'confidence intervals for 46-50 years of age with 90% is:{(lower_limit5,upper_limit5)}')\n",
    "\n",
    "upper_limit6= np.mean(sample_means6) + (1.645 * np.std(sample_means6))\n",
    "lower_limit6= np.mean(sample_means6) - (1.645 * np.std(sample_means6))\n",
    "print(f'confidence intervals for 51-55 years of age with 90% is:{(lower_limit6,upper_limit6)}')\n",
    "\n",
    "upper_limit7= np.mean(sample_means7) + (1.645 * np.std(sample_means7))\n",
    "lower_limit7= np.mean(sample_means7) - (1.645 * np.std(sample_means7))\n",
    "print(f'confidence intervals for 55+ years of age with 90% is:{(lower_limit7,upper_limit7)}')"
   ]
  },
  {
   "cell_type": "code",
   "execution_count": null,
   "id": "169574f9",
   "metadata": {},
   "outputs": [],
   "source": [
    "upper_limit1= np.mean(sample_means1) + (2.58 * np.std(sample_means1))\n",
    "lower_limit1= np.mean(sample_means1) - (2.58 * np.std(sample_means1))\n",
    "print(f'confidence intervals for 0-17 years of age with 99% is:{(lower_limit1,upper_limit1)}')\n",
    "\n",
    "upper_limit2= np.mean(sample_means2) + (2.58 * np.std(sample_means2))\n",
    "lower_limit2= np.mean(sample_means2) - (2.58 * np.std(sample_means2))\n",
    "print(f'confidence intervals for 18-25 years of age with 99% is:{(lower_limit2,upper_limit2)}')\n",
    "\n",
    "upper_limit3= np.mean(sample_means3) + (2.58 * np.std(sample_means3))\n",
    "lower_limit3= np.mean(sample_means3) - (2.58 * np.std(sample_means3))\n",
    "print(f'confidence intervals for 26-35 years of age with 99% is:{(lower_limit3,upper_limit3)}')\n",
    "\n",
    "upper_limit4= np.mean(sample_means4) + (2.58 * np.std(sample_means4))\n",
    "lower_limit4= np.mean(sample_means4) - (2.58 * np.std(sample_means4))\n",
    "print(f'confidence intervals for 36-45 years of age with 99% is:{(lower_limit4,upper_limit4)}')\n",
    "\n",
    "upper_limit5= np.mean(sample_means5) + (2.58 * np.std(sample_means5))\n",
    "lower_limit5= np.mean(sample_means5) - (2.58 * np.std(sample_means5))\n",
    "print(f'confidence intervals for 46-50 years of age with 99% is:{(lower_limit5,upper_limit5)}')\n",
    "\n",
    "upper_limit6= np.mean(sample_means6) + (2.58 * np.std(sample_means6))\n",
    "lower_limit6= np.mean(sample_means6) - (2.58 * np.std(sample_means6))\n",
    "print(f'confidence intervals for 51-55 years of age with 99% is:{(lower_limit6,upper_limit6)}')\n",
    "\n",
    "upper_limit7= np.mean(sample_means7) + (2.58 * np.std(sample_means7))\n",
    "lower_limit7= np.mean(sample_means7) - (2.58 * np.std(sample_means7))\n",
    "print(f'confidence intervals for 55+ years of age with 99% is:{(lower_limit7,upper_limit7)}')"
   ]
  },
  {
   "cell_type": "markdown",
   "id": "d4b37cb9",
   "metadata": {},
   "source": [
    "#### From all the comparisions between the intervals we can say that the purchsing factor does not depend on the Age too. As the intervals are overlapping with each other."
   ]
  },
  {
   "cell_type": "markdown",
   "id": "e254c937",
   "metadata": {},
   "source": [
    "## Conclusions\n",
    "\n",
    "#### 1. We can say that any factor is not effecting the purchasing capacity here as the intervals are overlapping with each other.\n",
    "#### As we're extrapolating this data to the 100 million users we're looking at the AVERAGE buying capacity of different group of people.\n",
    "#### 2. Coming to the Gender we can see the male customers are buying more in number in usual way but that not true as the Average buying capacity intervals of both male and female customers are overlapping, so I can rule that out.\n",
    "#### 3. With Marital status, it seems Unmarried people are buying more in number but that's not the case here. The Average buying capacity of both Unmarried and married people are overlapping so we can't say that either.\n",
    "#### 4. With Age as constraint it also seems like the people in the age group of 25-36 are buying more but that is also baseless as the intervals are overlapping with other age group people Purchase capacity.\n",
    "### Finally we can say that while on holiday shopping there are no constraints and people are buying more no matter what the age group is, Gender and Marital status. So we can target wide range of audience here."
   ]
  },
  {
   "cell_type": "code",
   "execution_count": null,
   "id": "ae472c90",
   "metadata": {},
   "outputs": [],
   "source": []
  }
 ],
 "metadata": {
  "kernelspec": {
   "display_name": "Python 3 (ipykernel)",
   "language": "python",
   "name": "python3"
  },
  "language_info": {
   "codemirror_mode": {
    "name": "ipython",
    "version": 3
   },
   "file_extension": ".py",
   "mimetype": "text/x-python",
   "name": "python",
   "nbconvert_exporter": "python",
   "pygments_lexer": "ipython3",
   "version": "3.9.12"
  }
 },
 "nbformat": 4,
 "nbformat_minor": 5
}
